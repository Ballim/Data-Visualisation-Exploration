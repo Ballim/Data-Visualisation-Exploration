{
 "cells": [
  {
   "cell_type": "markdown",
   "id": "0b702aa9",
   "metadata": {},
   "source": [
    "# Importing relevant libraries"
   ]
  },
  {
   "cell_type": "code",
   "execution_count": 1,
   "id": "ef0c782e",
   "metadata": {},
   "outputs": [],
   "source": [
    "import numpy as np\n",
    "import pandas as pd\n",
    "from dateutil.parser import parse\n",
    "import matplotlib.pyplot as plt\n",
    "import seaborn as sns\n",
    "sns.set()"
   ]
  },
  {
   "cell_type": "markdown",
   "id": "1c21f1c2",
   "metadata": {},
   "source": [
    "# Reading in the data"
   ]
  },
  {
   "cell_type": "code",
   "execution_count": 2,
   "id": "20abecbf",
   "metadata": {},
   "outputs": [],
   "source": [
    "data = pd.read_csv(\"logbook_assignment1.csv\",low_memory=False)"
   ]
  },
  {
   "cell_type": "code",
   "execution_count": 3,
   "id": "c74c8399",
   "metadata": {},
   "outputs": [
    {
     "data": {
      "text/plain": [
       "(1174870, 9)"
      ]
     },
     "execution_count": 3,
     "metadata": {},
     "output_type": "execute_result"
    }
   ],
   "source": [
    "np.shape(data)"
   ]
  },
  {
   "cell_type": "markdown",
   "id": "cd22c75b",
   "metadata": {},
   "source": [
    "# 1. Data Cleaning"
   ]
  },
  {
   "cell_type": "markdown",
   "id": "37a9f91d",
   "metadata": {},
   "source": [
    "## 1.1 Date Fields"
   ]
  },
  {
   "cell_type": "code",
   "execution_count": 4,
   "id": "de8f875c",
   "metadata": {},
   "outputs": [],
   "source": [
    "def is_date(string, fuzzy=False):\n",
    "    \"\"\"\n",
    "    Return whether the string can be interpreted as a date.\n",
    "\n",
    "    :param string: str, string to check for date\n",
    "    :param fuzzy: bool, ignore unknown tokens in string if True\n",
    "    \"\"\"\n",
    "    if(\".\" in string or \",\"in string or \":\" in string):\n",
    "        return False\n",
    "    try:\n",
    "        int(string)\n",
    "        return False\n",
    "    except:\n",
    "        pass\n",
    "    try: \n",
    "        parse(string, fuzzy=fuzzy)\n",
    "        return True\n",
    "\n",
    "    except ValueError:\n",
    "        return False"
   ]
  },
  {
   "cell_type": "markdown",
   "id": "09b20ad8",
   "metadata": {},
   "source": [
    "### 3. Convert the column to a date format, setting any invalid date fueled entries to NaT. [2]"
   ]
  },
  {
   "cell_type": "markdown",
   "id": "fa32132e",
   "metadata": {},
   "source": [
    "This cell takes some time to run"
   ]
  },
  {
   "cell_type": "code",
   "execution_count": 5,
   "id": "7aff94cc",
   "metadata": {},
   "outputs": [
    {
     "name": "stderr",
     "output_type": "stream",
     "text": [
      "/home/ziyaad/.local/lib/python3.8/site-packages/dateutil/parser/_parser.py:1207: UnknownTimezoneWarning: tzname H identified but not understood.  Pass `tzinfos` argument in order to correctly return a timezone-aware datetime.  In a future version, this will raise an exception.\n",
      "  warnings.warn(\"tzname {tzname} identified but not understood.  \"\n"
     ]
    }
   ],
   "source": [
    "data['date_fueled'] = pd.to_datetime(data['date_fueled'],dayfirst=True,errors='coerce').dt.date"
   ]
  },
  {
   "cell_type": "code",
   "execution_count": 6,
   "id": "807de707",
   "metadata": {},
   "outputs": [
    {
     "data": {
      "text/plain": [
       "0                NaT\n",
       "1         2012-11-07\n",
       "2         2012-09-22\n",
       "3         2019-05-04\n",
       "4         2022-02-15\n",
       "             ...    \n",
       "1174865   2020-02-19\n",
       "1174866   2019-12-06\n",
       "1174867   2021-10-04\n",
       "1174868   2021-07-26\n",
       "1174869   2019-03-12\n",
       "Name: date_fueled, Length: 1174870, dtype: datetime64[ns]"
      ]
     },
     "execution_count": 6,
     "metadata": {},
     "output_type": "execute_result"
    }
   ],
   "source": [
    "data['date_fueled'].astype('datetime64')"
   ]
  },
  {
   "cell_type": "markdown",
   "id": "e547a19e",
   "metadata": {},
   "source": [
    "### 1. Identify what percentage of date_fueled entries are not proper dates. [1]"
   ]
  },
  {
   "cell_type": "code",
   "execution_count": 7,
   "id": "be39418d",
   "metadata": {},
   "outputs": [
    {
     "name": "stdout",
     "output_type": "stream",
     "text": [
      "The percetange of incorrect values in the date_fueled column is 11.65763020589512 %\n"
     ]
    }
   ],
   "source": [
    "dates = data[\"date_fueled\"].isnull()\n",
    "\n",
    "NaTValues = np.where(dates==True)\n",
    "\n",
    "percentage_of_incorrect_values = (len(NaTValues[0])/len(dates))*100\n",
    "\n",
    "print(f'The percetange of incorrect values in the date_fueled column is {percentage_of_incorrect_values} %')"
   ]
  },
  {
   "cell_type": "markdown",
   "id": "f78af473",
   "metadata": {},
   "source": [
    "### 2. If date_fueled is not entered correctly (or is not a date), and the date captured is a valid date, then fill in this value as a proxy. [1]\n"
   ]
  },
  {
   "cell_type": "markdown",
   "id": "5d01ab9a",
   "metadata": {},
   "source": [
    "This cell takes some time to run"
   ]
  },
  {
   "cell_type": "code",
   "execution_count": 8,
   "id": "67ea041c",
   "metadata": {},
   "outputs": [],
   "source": [
    "indices_to_fill_in_proxy = []\n",
    "raw_dates = data[\"date_fueled\"].to_numpy()\n",
    "raw_date_captured_at_incorrect_indices = data[\"date_captured\"].to_numpy()[NaTValues]\n",
    "length = len(raw_date_captured_at_incorrect_indices)\n",
    "\n",
    "for j in range(length):\n",
    "    date_captured = raw_date_captured_at_incorrect_indices[j]\n",
    "    if (type(date_captured) == str and is_date(date_captured)):\n",
    "        raw_dates[NaTValues[0][j]] = pd.to_datetime(date_captured,dayfirst=True)"
   ]
  },
  {
   "cell_type": "code",
   "execution_count": 9,
   "id": "d94b457b",
   "metadata": {},
   "outputs": [],
   "source": [
    "data['date_fueled'] = pd.to_datetime(data['date_fueled'],dayfirst=True,errors='coerce').dt.date"
   ]
  },
  {
   "cell_type": "markdown",
   "id": "67e7ff51",
   "metadata": {},
   "source": [
    "### 4. Remove dates that are in the future, or dates that are earlier than 2005. [1]\n"
   ]
  },
  {
   "cell_type": "code",
   "execution_count": 10,
   "id": "72f98e02",
   "metadata": {},
   "outputs": [],
   "source": [
    "dates = data[\"date_fueled\"].to_list()\n",
    "\n",
    "n = len(dates)\n",
    "indices_to_drop = []\n",
    "for i in range(n):\n",
    "    if(dates[i].year < 2005 or  dates[i].year > 2022):\n",
    "        indices_to_drop.append(i)\n",
    "        "
   ]
  },
  {
   "cell_type": "code",
   "execution_count": 11,
   "id": "93b5092a",
   "metadata": {},
   "outputs": [
    {
     "data": {
      "text/plain": [
       "(1174127, 9)"
      ]
     },
     "execution_count": 11,
     "metadata": {},
     "output_type": "execute_result"
    }
   ],
   "source": [
    "data.drop(indices_to_drop,axis=0,inplace=True)\n",
    "data = data.reset_index(drop=True)\n",
    "np.shape(data)"
   ]
  },
  {
   "cell_type": "code",
   "execution_count": 12,
   "id": "ecbc4e13",
   "metadata": {},
   "outputs": [
    {
     "data": {
      "text/plain": [
       "0         2022-04-07\n",
       "1         2012-11-07\n",
       "2         2012-09-22\n",
       "3         2019-05-04\n",
       "4         2022-02-15\n",
       "             ...    \n",
       "1174122   2020-02-19\n",
       "1174123   2019-12-06\n",
       "1174124   2021-10-04\n",
       "1174125   2021-07-26\n",
       "1174126   2019-03-12\n",
       "Name: date_fueled, Length: 1174127, dtype: datetime64[ns]"
      ]
     },
     "execution_count": 12,
     "metadata": {},
     "output_type": "execute_result"
    }
   ],
   "source": [
    "data['date_fueled'].astype('datetime64')"
   ]
  },
  {
   "cell_type": "markdown",
   "id": "bfbf5002",
   "metadata": {},
   "source": [
    "### 5. Plot the distribution of fueling dates and comment on the results. [2]\n"
   ]
  },
  {
   "cell_type": "code",
   "execution_count": 13,
   "id": "5bec495c",
   "metadata": {},
   "outputs": [],
   "source": [
    "dates = data[\"date_fueled\"].to_list()\n",
    "\n",
    "years = [y.year for y in dates]\n",
    "\n",
    "vals,counts = np.unique(years,return_counts=True)"
   ]
  },
  {
   "cell_type": "code",
   "execution_count": 14,
   "id": "cbec1d0b",
   "metadata": {},
   "outputs": [
    {
     "data": {
      "image/png": "[encoded data removed]",
      "text/plain": [
       "<Figure size 432x288 with 1 Axes>"
      ]
     },
     "metadata": {},
     "output_type": "display_data"
    }
   ],
   "source": [
    "plt.plot(vals,counts)\n",
    "plt.show()"
   ]
  },
  {
   "cell_type": "markdown",
   "id": "9fe12881",
   "metadata": {},
   "source": [
    "## 1.2 Numeric Fields"
   ]
  },
  {
   "cell_type": "markdown",
   "id": "6213ec12",
   "metadata": {},
   "source": [
    "### 3. The values will be read in as objects (or strings) by Pandas. Convert these values to float (note the point above about commas in the value). [5]\n"
   ]
  },
  {
   "cell_type": "code",
   "execution_count": 15,
   "id": "cb9430a8",
   "metadata": {},
   "outputs": [],
   "source": [
    "## Function that will convert a string to a float by removing any additional commas\n",
    "def StringToFloat(value):\n",
    "    \n",
    "    if(type(value)!= float):\n",
    "        return float(value.replace(\",\",\"\"))\n",
    "    \n",
    "    return value"
   ]
  },
  {
   "cell_type": "code",
   "execution_count": 16,
   "id": "e8acbc42",
   "metadata": {},
   "outputs": [],
   "source": [
    "# Apply the function to appropriate columns\n",
    "data[\"gallons\"] = data[\"gallons\"].apply(StringToFloat)\n",
    "data[\"miles\"] = data[\"miles\"].apply(StringToFloat)\n",
    "data[\"odometer\"] = data[\"odometer\"].apply(StringToFloat)\n",
    "data[\"mpg\"] = data[\"mpg\"].apply(StringToFloat)"
   ]
  },
  {
   "cell_type": "code",
   "execution_count": 17,
   "id": "94d9c2eb",
   "metadata": {},
   "outputs": [
    {
     "data": {
      "text/plain": [
       "0           NaN\n",
       "1          31.6\n",
       "2          28.5\n",
       "3          46.8\n",
       "4          21.0\n",
       "           ... \n",
       "1174122    25.7\n",
       "1174123    20.0\n",
       "1174124    28.5\n",
       "1174125    36.5\n",
       "1174126     0.0\n",
       "Name: mpg, Length: 1174127, dtype: float64"
      ]
     },
     "execution_count": 17,
     "metadata": {},
     "output_type": "execute_result"
    }
   ],
   "source": [
    "data[\"gallons\"].astype(float)\n",
    "data[\"miles\"].astype(float)\n",
    "data[\"odometer\"].astype(float)\n",
    "data[\"mpg\"].astype(float)"
   ]
  },
  {
   "cell_type": "markdown",
   "id": "fe0b089f",
   "metadata": {},
   "source": [
    "### 1. Identify what percentage of gallons, miles, odometer and entries are missing. [3]"
   ]
  },
  {
   "cell_type": "code",
   "execution_count": 18,
   "id": "ef9d333f",
   "metadata": {},
   "outputs": [],
   "source": [
    "def findNullAndZeroIndices(data,column):\n",
    "    d = data[column].to_numpy()\n",
    "    indices1 = np.where(data[column].isnull()==True)\n",
    "    indices2 = np.where(d==0)\n",
    "    allIndices = list(set(indices1[0])| set(indices2[0]))\n",
    "    return allIndices"
   ]
  },
  {
   "cell_type": "code",
   "execution_count": 19,
   "id": "0e6e2b9a",
   "metadata": {},
   "outputs": [],
   "source": [
    "# null_Gallons_indices = np.where(data[\"gallons\"].isnull() == True)\n",
    "# null_miles_indices = np.where(data[\"miles\"].isnull() == True)\n",
    "# null_odometer_indices = np.where(data[\"odometer\"].isnull() == True)\n",
    "\n",
    "null_Gallons_indices = findNullAndZeroIndices(data,\"gallons\")\n",
    "null_miles_indices = findNullAndZeroIndices(data,\"miles\")\n",
    "null_odometer_indices = findNullAndZeroIndices(data,\"odometer\")\n",
    "null_mpg_indices = findNullAndZeroIndices(data,\"mpg\")"
   ]
  },
  {
   "cell_type": "code",
   "execution_count": 20,
   "id": "a38e77aa",
   "metadata": {},
   "outputs": [
    {
     "name": "stdout",
     "output_type": "stream",
     "text": [
      "The percentage of missing values in Gallons is 6.365495385081853 %\n",
      "The percentage of missing values in Miles is 87.56114117127024 %\n",
      "The percentage of missing values in Odometer is 12.68499915256186 %\n",
      "The percentage of missing values in MPG is 18.159279192114653 %\n"
     ]
    }
   ],
   "source": [
    "n = len(data[\"gallons\"])\n",
    "\n",
    "percentage_missing_gallons = (len(null_Gallons_indices)/n)*100\n",
    "percentage_missing_miles = (len(null_miles_indices)/n)*100\n",
    "percentage_missing_odometer = (len(null_odometer_indices)/n)*100\n",
    "percentage_missing_mpg = (len(null_mpg_indices)/n)*100\n",
    "\n",
    "print(f'The percentage of missing values in Gallons is {percentage_missing_gallons} %')\n",
    "print(f'The percentage of missing values in Miles is {percentage_missing_miles} %')\n",
    "print(f'The percentage of missing values in Odometer is {percentage_missing_odometer} %')\n",
    "print(f'The percentage of missing values in MPG is {percentage_missing_mpg} %')"
   ]
  },
  {
   "cell_type": "markdown",
   "id": "9a6ddb4a",
   "metadata": {},
   "source": [
    "### 2. The miles, gallons and mpg columns are interdependent. If one is missing, the other two can be used to calculate it. [3]"
   ]
  },
  {
   "cell_type": "code",
   "execution_count": 21,
   "id": "b5848e72",
   "metadata": {},
   "outputs": [],
   "source": [
    "null_mpg_indices = findNullAndZeroIndices(data,\"mpg\")"
   ]
  },
  {
   "cell_type": "markdown",
   "id": "b9a6893e",
   "metadata": {},
   "source": [
    "So now we are going to find , any indices that are missing 2 or all 3 values. ie an entry that doesn't have mpg,miles and gallons or an entry that is missing any combination of the two."
   ]
  },
  {
   "cell_type": "code",
   "execution_count": 22,
   "id": "4db81cd0",
   "metadata": {},
   "outputs": [],
   "source": [
    "## Computing indices that are missing all 3 values and 2 values\n",
    "## These values we wont be able to compute\n",
    "indices_missing_2_values = ( set(null_Gallons_indices) & set(null_miles_indices)) | ( set(null_Gallons_indices) & set(null_mpg_indices)) |( set(null_mpg_indices) & set(null_miles_indices))\n",
    "indices_missing_3_values = set(null_Gallons_indices) & set(null_miles_indices) & set(null_mpg_indices) "
   ]
  },
  {
   "cell_type": "code",
   "execution_count": 23,
   "id": "4f7cc8dc",
   "metadata": {},
   "outputs": [],
   "source": [
    "indices_to_be_dropped = set(indices_missing_2_values) | set(indices_missing_3_values)"
   ]
  },
  {
   "cell_type": "code",
   "execution_count": 24,
   "id": "035eabcd",
   "metadata": {},
   "outputs": [],
   "source": [
    "data.drop(indices_to_be_dropped,axis=0,inplace=True)\n",
    "data = data.reset_index(drop=True)"
   ]
  },
  {
   "cell_type": "markdown",
   "id": "73e64574",
   "metadata": {},
   "source": [
    "We now dropped all indices that could not be calculated. So now we can find all indices that can be calculated"
   ]
  },
  {
   "cell_type": "code",
   "execution_count": 25,
   "id": "06461dc1",
   "metadata": {},
   "outputs": [
    {
     "name": "stdout",
     "output_type": "stream",
     "text": [
      "0\n",
      "819168\n",
      "4312\n"
     ]
    }
   ],
   "source": [
    "updated_null_mpg = findNullAndZeroIndices(data,\"mpg\")\n",
    "updated_null_gallons = findNullAndZeroIndices(data,\"gallons\")\n",
    "updated_null_miles = findNullAndZeroIndices(data,\"miles\")\n",
    "\n",
    "print(len(updated_null_gallons))\n",
    "print(len(updated_null_miles))\n",
    "print(len(updated_null_mpg))"
   ]
  },
  {
   "cell_type": "markdown",
   "id": "ceed7b85",
   "metadata": {},
   "source": [
    "We can see that gallons and miles still have null and 0 values but we they can be calculated"
   ]
  },
  {
   "cell_type": "code",
   "execution_count": 26,
   "id": "487dafd4",
   "metadata": {},
   "outputs": [],
   "source": [
    "def calculate_missing_values(mpg = 0, miles = 0, gallons = 0):\n",
    "    if((mpg == 0 or np.isnan(mpg)) and miles!=0 and gallons!=0):\n",
    "        return miles/gallons\n",
    "    if((miles == 0 or np.isnan(miles))and mpg!=0 and gallons!=0):\n",
    "        return mpg*gallons\n",
    "    if((gallons == 0 or np.isnan(gallons)) and miles!=0 and mpg!=0):\n",
    "        return miles/mpg\n",
    "    \n",
    "    return np.nan"
   ]
  },
  {
   "cell_type": "code",
   "execution_count": 27,
   "id": "c74ac519",
   "metadata": {},
   "outputs": [],
   "source": [
    "def Fill_In_Missing_Values(data,indicesOfMissingValues,columnToCalculate):\n",
    "    n = len(indicesOfMissingValues)\n",
    "\n",
    "    calculated = []\n",
    "    for i in range(n):\n",
    "        row = data.iloc[indicesOfMissingValues[i]]\n",
    "        calculated.append(calculate_missing_values(row[\"mpg\"],row[\"miles\"],row[\"gallons\"]))\n",
    "\n",
    "    \n",
    "    d = data[columnToCalculate].to_numpy()\n",
    "    d[indicesOfMissingValues] = calculated\n",
    "    data[columnToCalculate] = d\n",
    "    data[columnToCalculate].astype(float)\n"
   ]
  },
  {
   "cell_type": "code",
   "execution_count": 28,
   "id": "81e243b5",
   "metadata": {},
   "outputs": [],
   "source": [
    "Fill_In_Missing_Values(data,updated_null_miles,\"miles\")\n",
    "Fill_In_Missing_Values(data,updated_null_gallons,\"gallons\")\n",
    "Fill_In_Missing_Values(data,updated_null_mpg,\"mpg\")"
   ]
  },
  {
   "cell_type": "markdown",
   "id": "846e04ad",
   "metadata": {},
   "source": [
    "### 5. Compute the statistical description of the columns: mean, standard deviation, max, min, most frequent, and quartiles. Do these results make sense? [3]"
   ]
  },
  {
   "cell_type": "code",
   "execution_count": 29,
   "id": "b0b7f2f6",
   "metadata": {},
   "outputs": [
    {
     "data": {
      "text/html": [
       "<div>\n",
       "<style scoped>\n",
       "    .dataframe tbody tr th:only-of-type {\n",
       "        vertical-align: middle;\n",
       "    }\n",
       "\n",
       "    .dataframe tbody tr th {\n",
       "        vertical-align: top;\n",
       "    }\n",
       "\n",
       "    .dataframe thead th {\n",
       "        text-align: right;\n",
       "    }\n",
       "</style>\n",
       "<table border=\"1\" class=\"dataframe\">\n",
       "  <thead>\n",
       "    <tr style=\"text-align: right;\">\n",
       "      <th></th>\n",
       "      <th>odometer</th>\n",
       "      <th>gallons</th>\n",
       "      <th>mpg</th>\n",
       "      <th>miles</th>\n",
       "    </tr>\n",
       "  </thead>\n",
       "  <tbody>\n",
       "    <tr>\n",
       "      <th>count</th>\n",
       "      <td>8.191640e+05</td>\n",
       "      <td>965213.000000</td>\n",
       "      <td>965213.000000</td>\n",
       "      <td>965213.000000</td>\n",
       "    </tr>\n",
       "    <tr>\n",
       "      <th>mean</th>\n",
       "      <td>1.010940e+05</td>\n",
       "      <td>12.852886</td>\n",
       "      <td>26.934351</td>\n",
       "      <td>307.064443</td>\n",
       "    </tr>\n",
       "    <tr>\n",
       "      <th>std</th>\n",
       "      <td>7.508279e+04</td>\n",
       "      <td>28.927008</td>\n",
       "      <td>605.009620</td>\n",
       "      <td>767.336475</td>\n",
       "    </tr>\n",
       "    <tr>\n",
       "      <th>min</th>\n",
       "      <td>1.000000e+00</td>\n",
       "      <td>0.001000</td>\n",
       "      <td>0.018929</td>\n",
       "      <td>0.100000</td>\n",
       "    </tr>\n",
       "    <tr>\n",
       "      <th>25%</th>\n",
       "      <td>4.371200e+04</td>\n",
       "      <td>9.476000</td>\n",
       "      <td>18.200000</td>\n",
       "      <td>219.309600</td>\n",
       "    </tr>\n",
       "    <tr>\n",
       "      <th>50%</th>\n",
       "      <td>8.914200e+04</td>\n",
       "      <td>12.258000</td>\n",
       "      <td>23.300000</td>\n",
       "      <td>283.946600</td>\n",
       "    </tr>\n",
       "    <tr>\n",
       "      <th>75%</th>\n",
       "      <td>1.448470e+05</td>\n",
       "      <td>15.111000</td>\n",
       "      <td>29.800000</td>\n",
       "      <td>355.419100</td>\n",
       "    </tr>\n",
       "    <tr>\n",
       "      <th>max</th>\n",
       "      <td>9.180140e+06</td>\n",
       "      <td>19465.309000</td>\n",
       "      <td>559860.946746</td>\n",
       "      <td>195321.200000</td>\n",
       "    </tr>\n",
       "  </tbody>\n",
       "</table>\n",
       "</div>"
      ],
      "text/plain": [
       "           odometer        gallons            mpg          miles\n",
       "count  8.191640e+05  965213.000000  965213.000000  965213.000000\n",
       "mean   1.010940e+05      12.852886      26.934351     307.064443\n",
       "std    7.508279e+04      28.927008     605.009620     767.336475\n",
       "min    1.000000e+00       0.001000       0.018929       0.100000\n",
       "25%    4.371200e+04       9.476000      18.200000     219.309600\n",
       "50%    8.914200e+04      12.258000      23.300000     283.946600\n",
       "75%    1.448470e+05      15.111000      29.800000     355.419100\n",
       "max    9.180140e+06   19465.309000  559860.946746  195321.200000"
      ]
     },
     "execution_count": 29,
     "metadata": {},
     "output_type": "execute_result"
    }
   ],
   "source": [
    "data.describe()"
   ]
  },
  {
   "cell_type": "markdown",
   "id": "85b33c76",
   "metadata": {},
   "source": [
    "### 4. Plot the distributions and comment on the distributions. [3]"
   ]
  },
  {
   "cell_type": "code",
   "execution_count": 30,
   "id": "8616c4c6",
   "metadata": {},
   "outputs": [],
   "source": [
    "mpg = data[\"mpg\"].to_numpy()\n",
    "gallons = data[\"gallons\"].to_numpy()\n",
    "miles = data[\"miles\"].to_numpy()"
   ]
  },
  {
   "cell_type": "markdown",
   "id": "2a6b4545",
   "metadata": {},
   "source": [
    "# 2. Feature Engineering"
   ]
  },
  {
   "cell_type": "markdown",
   "id": "c95f26d7",
   "metadata": {},
   "source": [
    "## 1. Create a new column with the currency. (Something to keep in mind is that the Swiss Franc has a period in the abbreviation). [2]"
   ]
  },
  {
   "cell_type": "code",
   "execution_count": 77,
   "id": "afa67ebf",
   "metadata": {},
   "outputs": [
    {
     "data": {
      "text/plain": [
       "date_fueled         object\n",
       "date_captured       object\n",
       "odometer           float64\n",
       "gallons            float64\n",
       "cost_per_gallon     object\n",
       "total_spent         object\n",
       "mpg                float64\n",
       "miles              float64\n",
       "user_url            object\n",
       "dtype: object"
      ]
     },
     "execution_count": 77,
     "metadata": {},
     "output_type": "execute_result"
    }
   ],
   "source": [
    "datacopy=data.copy()\n",
    "datacopy.dtypes"
   ]
  },
  {
   "cell_type": "code",
   "execution_count": 78,
   "id": "0d03219d",
   "metadata": {},
   "outputs": [],
   "source": [
    "def GetCurrencies(col):\n",
    "    Column=col.to_numpy()\n",
    "    Currencies=[]\n",
    "    for i in range(len(Column)):\n",
    "        Price=Column[i]\n",
    "        Currency=\"\"\n",
    "        for k in range(len(Price)):\n",
    "            if Price[k].isdigit():\n",
    "                break\n",
    "            else:\n",
    "                Currency=Currency+Price[k]\n",
    "        Currencies.append(Currency)\n",
    "    return Currencies"
   ]
  },
  {
   "cell_type": "code",
   "execution_count": 79,
   "id": "9c196808",
   "metadata": {},
   "outputs": [],
   "source": [
    "Currs=GetCurrencies(datacopy['total_spent'])\n",
    "datacopy.insert(datacopy.shape[1],\"Currency\",Currs,allow_duplicates=True)"
   ]
  },
  {
   "cell_type": "markdown",
   "id": "7c5e998f",
   "metadata": {},
   "source": [
    "## 2. Create a new column containing the float value of the total spend and the cost per gallon. (Swiss Franc comment as above). [2]"
   ]
  },
  {
   "cell_type": "code",
   "execution_count": 80,
   "id": "a2a8694a",
   "metadata": {},
   "outputs": [],
   "source": [
    "def isfloat(str):\n",
    "    try:\n",
    "        float(str)\n",
    "        return True\n",
    "    except:\n",
    "        return False"
   ]
  },
  {
   "cell_type": "code",
   "execution_count": 96,
   "id": "3d14c5bd",
   "metadata": {},
   "outputs": [],
   "source": [
    "def GetFloatColumn(col):\n",
    "    Column=col.to_numpy()\n",
    "    print(len(Column))\n",
    "    nulls = np.where(col.isnull()==True)\n",
    "    for i in range(len(Column)):\n",
    "        Price=Column[i]\n",
    "        if isfloat(Price):\n",
    "            continue\n",
    "        else:\n",
    "            for k in range(len(Price)):\n",
    "                if isfloat(Price[k:]):\n",
    "                    Column[i]=Price[k:]\n",
    "                    break\n",
    "    return Column"
   ]
  },
  {
   "cell_type": "code",
   "execution_count": 97,
   "id": "507e7767",
   "metadata": {},
   "outputs": [
    {
     "name": "stdout",
     "output_type": "stream",
     "text": [
      "test\n",
      "0         $5.599\n",
      "1          £5.45\n",
      "2          £5.11\n",
      "3         $3.029\n",
      "4         $3.739\n",
      "           ...  \n",
      "965208    $3.099\n",
      "965209    $1.999\n",
      "965210    $2.449\n",
      "965211    $3.449\n",
      "965212    $3.539\n",
      "Name: cost_per_gallon, Length: 965213, dtype: object\n"
     ]
    }
   ],
   "source": [
    "print(datacopy['cost_per_gallon'])"
   ]
  },
  {
   "cell_type": "code",
   "execution_count": 100,
   "id": "66dd18db",
   "metadata": {},
   "outputs": [
    {
     "name": "stdout",
     "output_type": "stream",
     "text": [
      "965213\n"
     ]
    }
   ],
   "source": [
    "datacopy['cost_per_gallon']=GetFloatColumn(datacopy['cost_per_gallon']).astype(float)"
   ]
  },
  {
   "cell_type": "code",
   "execution_count": 101,
   "id": "372a0570",
   "metadata": {},
   "outputs": [
    {
     "name": "stdout",
     "output_type": "stream",
     "text": [
      "0         5.599\n",
      "1         5.450\n",
      "2         5.110\n",
      "3         3.029\n",
      "4         3.739\n",
      "          ...  \n",
      "965208    3.099\n",
      "965209    1.999\n",
      "965210    2.449\n",
      "965211    3.449\n",
      "965212    3.539\n",
      "Name: cost_per_gallon, Length: 965213, dtype: float64\n"
     ]
    },
    {
     "data": {
      "text/plain": [
       "date_fueled         object\n",
       "date_captured       object\n",
       "odometer           float64\n",
       "gallons            float64\n",
       "cost_per_gallon    float64\n",
       "total_spent         object\n",
       "mpg                float64\n",
       "miles              float64\n",
       "user_url            object\n",
       "Currency            object\n",
       "dtype: object"
      ]
     },
     "execution_count": 101,
     "metadata": {},
     "output_type": "execute_result"
    }
   ],
   "source": [
    "print(datacopy['cost_per_gallon'])\n",
    "datacopy.dtypes"
   ]
  },
  {
   "cell_type": "code",
   "execution_count": 102,
   "id": "61242e14",
   "metadata": {},
   "outputs": [
    {
     "name": "stdout",
     "output_type": "stream",
     "text": [
      "0         $67.86\n",
      "1         £43.53\n",
      "2         £54.00\n",
      "3         $35.29\n",
      "4         $12.76\n",
      "           ...  \n",
      "965208    $37.95\n",
      "965209    $26.08\n",
      "965210    $30.95\n",
      "965211    $34.50\n",
      "965212    $37.13\n",
      "Name: total_spent, Length: 965213, dtype: object\n"
     ]
    }
   ],
   "source": [
    "print(datacopy['total_spent'])"
   ]
  },
  {
   "cell_type": "code",
   "execution_count": 103,
   "id": "50bd5277",
   "metadata": {},
   "outputs": [
    {
     "name": "stdout",
     "output_type": "stream",
     "text": [
      "965213\n"
     ]
    }
   ],
   "source": [
    "datacopy['total_spent']=GetFloatColumn(datacopy['total_spent']).astype(float)"
   ]
  },
  {
   "cell_type": "code",
   "execution_count": 104,
   "id": "61242e14",
   "metadata": {},
   "outputs": [
    {
     "name": "stdout",
     "output_type": "stream",
     "text": [
      "0         67.86\n",
      "1         43.53\n",
      "2         54.00\n",
      "3         35.29\n",
      "4         12.76\n",
      "          ...  \n",
      "965208    37.95\n",
      "965209    26.08\n",
      "965210    30.95\n",
      "965211    34.50\n",
      "965212    37.13\n",
      "Name: total_spent, Length: 965213, dtype: float64\n"
     ]
    }
   ],
   "source": [
    "print(datacopy['total_spent'])"
   ]
  },
  {
   "cell_type": "code",
   "execution_count": 105,
   "id": "eb01ae51",
   "metadata": {},
   "outputs": [
    {
     "data": {
      "text/plain": [
       "date_fueled         object\n",
       "date_captured       object\n",
       "odometer           float64\n",
       "gallons            float64\n",
       "cost_per_gallon    float64\n",
       "total_spent        float64\n",
       "mpg                float64\n",
       "miles              float64\n",
       "user_url            object\n",
       "Currency            object\n",
       "dtype: object"
      ]
     },
     "execution_count": 105,
     "metadata": {},
     "output_type": "execute_result"
    }
   ],
   "source": [
    "datacopy.dtypes"
   ]
  },
  {
   "cell_type": "markdown",
   "id": "faa5fcee",
   "metadata": {},
   "source": [
    "## 3. Car make, model, year, User ID: use the url (the last value in the URL is the user ID) [4]"
   ]
  },
  {
   "cell_type": "code",
   "execution_count": 126,
   "id": "f2b5e13e",
   "metadata": {},
   "outputs": [
    {
     "name": "stdout",
     "output_type": "stream",
     "text": [
      "https://www.somewebsite.com/mini/cooper/2019/952426\n"
     ]
    }
   ],
   "source": [
    "print(datacopy['user_url'][965212])"
   ]
  },
  {
   "cell_type": "code",
   "execution_count": 119,
   "id": "6b745c83",
   "metadata": {},
   "outputs": [],
   "source": [
    "def SplitURL(URL):\n",
    "    split=URL.split(\"/\")\n",
    "    UserID=split[len(split)-1]\n",
    "    Year=split[len(split)-2]\n",
    "    Model=split[len(split)-3]\n",
    "    Make=split[len(split)-4]\n",
    "    return Make,Model,Year,UserID"
   ]
  },
  {
   "cell_type": "code",
   "execution_count": 120,
   "id": "a607d05c",
   "metadata": {},
   "outputs": [
    {
     "name": "stdout",
     "output_type": "stream",
     "text": [
      "('bmw', '320d', '2010', '247233')\n"
     ]
    }
   ],
   "source": [
    "url=\"https://www.somewebsite.com/bmw/320d/2010/247233\"\n",
    "d=SplitURL(url)\n",
    "print(d)"
   ]
  },
  {
   "cell_type": "code",
   "execution_count": 121,
   "id": "9fc8ca0d",
   "metadata": {},
   "outputs": [],
   "source": [
    "def GetCarColumns(col):\n",
    "    Column=col.to_numpy()\n",
    "    Car=[]\n",
    "    Model=[]\n",
    "    Year=[]\n",
    "    UserID=[]\n",
    "    for k in range(len(Column)):\n",
    "        CarMake, CarModel, CarYear, UID= SplitURL(Column[k])\n",
    "        Car.append(CarMake)\n",
    "        Model.append(CarModel)\n",
    "        Year.append(CarYear)\n",
    "        UserID.append(UID)\n",
    "    return Car, Model, Year, UserID\n"
   ]
  },
  {
   "cell_type": "code",
   "execution_count": 122,
   "id": "5cbb3f53",
   "metadata": {},
   "outputs": [],
   "source": [
    "car_make, car_model, car_year, UserID = GetCarColumns(datacopy['user_url']) "
   ]
  },
  {
   "cell_type": "code",
   "execution_count": 123,
   "id": "b187efc2",
   "metadata": {},
   "outputs": [],
   "source": [
    "datacopy.insert(datacopy.shape[1],\"car_make\",car_make,allow_duplicates=True)\n",
    "datacopy.insert(datacopy.shape[1],\"car_model\",car_model,allow_duplicates=True)\n",
    "datacopy.insert(datacopy.shape[1],\"car_year\",car_year,allow_duplicates=True)\n",
    "datacopy.insert(datacopy.shape[1],\"UserID\",UserID,allow_duplicates=True)"
   ]
  },
  {
   "cell_type": "code",
   "execution_count": 124,
   "id": "6eb45b79",
   "metadata": {},
   "outputs": [
    {
     "name": "stdout",
     "output_type": "stream",
     "text": [
      "       date_fueled date_captured  odometer  gallons  cost_per_gallon  \\\n",
      "0       2012-11-07   Aug 30 2016   11983.0   12.120            5.599   \n",
      "1       2012-09-22   Sep 28 2012   98233.0    7.991            5.450   \n",
      "2       2019-05-04    May 4 2019  163802.0   10.575            5.110   \n",
      "3       2022-02-15   Feb 15 2022       NaN   11.651            3.029   \n",
      "4       2021-10-23   Oct 23 2021  147567.0    3.413            3.739   \n",
      "...            ...           ...       ...      ...              ...   \n",
      "965208  2016-10-20   Oct 20 2016    9965.0   12.245            3.099   \n",
      "965209  2020-02-19   Feb 19 2020  118237.0   13.046            1.999   \n",
      "965210  2019-12-06    Dec 6 2019  141761.0   12.637            2.449   \n",
      "965211  2021-10-04    Oct 4 2021   65029.0   10.002            3.449   \n",
      "965212  2021-07-26   Jul 26 2021   15255.0   10.493            3.539   \n",
      "\n",
      "        total_spent   mpg     miles  \\\n",
      "0             67.86  31.6  382.9920   \n",
      "1             43.53  28.5  227.7435   \n",
      "2             54.00  46.8  494.9100   \n",
      "3             35.29  21.0  244.4000   \n",
      "4             12.76  29.0   98.9770   \n",
      "...             ...   ...       ...   \n",
      "965208        37.95  22.9  280.4105   \n",
      "965209        26.08  25.7  335.2822   \n",
      "965210        30.95  20.0  252.7400   \n",
      "965211        34.50  28.5  285.0570   \n",
      "965212        37.13  36.5  382.9945   \n",
      "\n",
      "                                                 user_url Currency  \\\n",
      "0          https://www.somewebsite.com/bmw/x3/2009/461150        $   \n",
      "1       https://www.somewebsite.com/mercedes-benz/e300...        £   \n",
      "2        https://www.somewebsite.com/bmw/320d/2010/247233        £   \n",
      "3       https://www.somewebsite.com/honda/passport/201...        $   \n",
      "4       https://www.somewebsite.com/volkswagen/passat/...        $   \n",
      "...                                                   ...      ...   \n",
      "965208  https://www.somewebsite.com/fiat/500l/2015/406216        $   \n",
      "965209  https://www.somewebsite.com/volkswagen/beetle/...        $   \n",
      "965210  https://www.somewebsite.com/toyota/avalon/2000...        $   \n",
      "965211   https://www.somewebsite.com/fiat/500/2013/909694        $   \n",
      "965212  https://www.somewebsite.com/mini/cooper/2019/9...        $   \n",
      "\n",
      "             car_make car_model car_year   UserID  \n",
      "0                 bmw        x3     2009   461150  \n",
      "1       mercedes-benz      e300     1998   133501  \n",
      "2                 bmw      320d     2010   247233  \n",
      "3               honda  passport     2019  1038865  \n",
      "4          volkswagen    passat     2004   445811  \n",
      "...               ...       ...      ...      ...  \n",
      "965208           fiat      500l     2015   406216  \n",
      "965209     volkswagen    beetle     2005   388391  \n",
      "965210         toyota    avalon     2000   432408  \n",
      "965211           fiat       500     2013   909694  \n",
      "965212           mini    cooper     2019   952426  \n",
      "\n",
      "[965213 rows x 14 columns]\n"
     ]
    }
   ],
   "source": [
    "print(datacopy)"
   ]
  },
  {
   "cell_type": "markdown",
   "id": "9730ae6f",
   "metadata": {},
   "source": [
    "## The data is given in imperial units, and in SA, we use proper measurement standards."
   ]
  },
  {
   "cell_type": "markdown",
   "id": "678c08f3",
   "metadata": {},
   "source": [
    "## 1. litres filled: use the gallons - consider whether to use UK or US gallons. [2]"
   ]
  },
  {
   "cell_type": "code",
   "execution_count": 127,
   "id": "900d2541",
   "metadata": {},
   "outputs": [],
   "source": [
    "def ConvertToLitres(volume, currency):\n",
    "    if currency=='$':\n",
    "        return volume*3.785\n",
    "    else:\n",
    "        return volume*4.546"
   ]
  },
  {
   "cell_type": "code",
   "execution_count": null,
   "id": "6fc068c7",
   "metadata": {},
   "outputs": [],
   "source": [
    "def ConvertToKM(distance):\n",
    "    return distance*1.609"
   ]
  },
  {
   "cell_type": "code",
   "execution_count": null,
   "id": "f487a1fa",
   "metadata": {},
   "outputs": [],
   "source": []
  },
  {
   "cell_type": "code",
   "execution_count": null,
   "id": "5a78204b",
   "metadata": {},
   "outputs": [],
   "source": [
    "def GetLitres"
   ]
  }
 ],
 "metadata": {
  "kernelspec": {
   "display_name": "Python 3 (ipykernel)",
   "language": "python",
   "name": "python3"
  },
  "language_info": {
   "codemirror_mode": {
    "name": "ipython",
    "version": 3
   },
   "file_extension": ".py",
   "mimetype": "text/x-python",
   "name": "python",
   "nbconvert_exporter": "python",
   "pygments_lexer": "ipython3",
   "version": "3.8.10"
  }
 },
 "nbformat": 4,
 "nbformat_minor": 5
}
